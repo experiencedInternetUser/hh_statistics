{
 "cells": [
  {
   "cell_type": "markdown",
   "metadata": {},
   "source": [
    "# <b>Подготовка</b>"
   ]
  },
  {
   "cell_type": "markdown",
   "metadata": {},
   "source": [
    "## Начало"
   ]
  },
  {
   "cell_type": "code",
   "execution_count": 1,
   "metadata": {},
   "outputs": [],
   "source": [
    "import pandas as pd"
   ]
  },
  {
   "cell_type": "code",
   "execution_count": null,
   "metadata": {},
   "outputs": [],
   "source": [
    "df = pd.read_csv('vacancies_2024.csv')\n",
    "df"
   ]
  },
  {
   "cell_type": "markdown",
   "metadata": {},
   "source": [
    "## Курс валют "
   ]
  },
  {
   "cell_type": "code",
   "execution_count": 6,
   "metadata": {},
   "outputs": [],
   "source": [
    "import requests\n",
    "import xml.etree.ElementTree as ET\n",
    "from datetime import datetime, timedelta\n",
    "\n",
    "\n",
    "BASE_URL = \"http://www.cbr.ru/scripts/XML_daily.asp\"\n",
    "\n",
    "salary_currencies = {\n",
    "    \"BYR\": \"R01090\",\n",
    "    \"USD\": \"R01235\",\n",
    "    \"EUR\": \"R01239\",\n",
    "    \"KZT\": \"R01335\",\n",
    "    \"UAH\": \"R01720\",\n",
    "    \"AZN\": \"R01020A\",\n",
    "    \"KGS\": \"R01370\",\n",
    "    \"UZS\": \"R01717\",\n",
    "    \"GEL\": \"R01210\",\n",
    "}\n",
    "\n",
    "start_date = datetime(2003, 1, 1)\n",
    "end_date = datetime(2024, 11, 1)\n",
    "\n",
    "current_date = start_date\n",
    "dates = []\n",
    "while current_date <= end_date:\n",
    "    dates.append(current_date.strftime(\"%d/%m/%Y\"))\n",
    "    current_date += timedelta(days=32)\n",
    "    current_date = current_date.replace(day=1)\n",
    "\n",
    "\n",
    "def get_currency_rate(date):\n",
    "    params = {\"date_req\": date}\n",
    "    response = requests.get(BASE_URL, params=params)\n",
    "\n",
    "    root = ET.fromstring(response.content)\n",
    "    rowForDf = {\"date\": date}\n",
    "    \n",
    "    for valute in root.findall(\"Valute\"):\n",
    "        char_code = valute.find(\"CharCode\").text\n",
    "        vunitRate = valute.find(\"VunitRate\").text \n",
    "\n",
    "        if char_code in salary_currencies.keys(): \n",
    "            rowForDf[char_code] = vunitRate.replace(\",\", \".\")\n",
    "            \n",
    "    return rowForDf\n",
    "\n",
    "\n",
    "all_data = []\n",
    "for date in dates:\n",
    "    rowForDf = get_currency_rate(date)\n",
    "    all_data.append(rowForDf)\n",
    "\n",
    "columns = [\"date\", \"BYR\", \"USD\", \"EUR\", \"KZT\", \"UAH\", \"AZN\", \"KGS\", \"UZS\", \"GEL\"]\n",
    "currency_df = pd.DataFrame(all_data, columns=columns)\n",
    "\n",
    "currency_df['date'] = pd.to_datetime(currency_df['date'], format=\"%d/%m/%Y\").dt.strftime(\"%Y-%m\")\n",
    "currency_df.to_csv(\"currency.csv\", index=False, encoding=\"utf-8\")\n"
   ]
  },
  {
   "cell_type": "markdown",
   "metadata": {},
   "source": [
    "## Фильтрация вакансий"
   ]
  },
  {
   "cell_type": "code",
   "execution_count": 30,
   "metadata": {},
   "outputs": [],
   "source": [
    "#web developer ключевые слова:\n",
    "keywords = [\n",
    "    'web develop', 'веб разработчик', 'web разработчик', 'web programmer', 'web программист', 'веб программист', \n",
    "    'битрикс разработчик', 'bitrix разработчик', 'битрикс девелопер', 'drupal разработчик', 'cms разработчик', \n",
    "    'wordpress разработчик', 'wp разработчик', 'joomla', 'drupal developer', 'cms developer', 'wordpress developer', \n",
    "    'wp developer', 'joomla developer', 'frontend developer', 'backend developer', 'fullstack developer', \n",
    "    'фронтенд разработчик', 'бекенд разработчик', 'фулстек разработчик', 'frontend engineer', 'backend engineer', \n",
    "    'fullstack engineer', 'front-end developer', 'back-end developer', 'full-stack developer', 'front-end engineer', \n",
    "    'back-end engineer', 'full-stack engineer', 'веб инженер', 'site developer', 'сайт разработчик', \n",
    "    'инженер-программист', 'разработчик сайтов', 'developer web', 'web engineer', \n",
    "    'php developer', 'php разработчик', 'python веб разработчик', 'node.js developer', 'node.js разработчик', \n",
    "    'javascript developer', 'javascript разработчик', 'typescript developer', 'typescript разработчик', \n",
    "    'vue.js developer', 'vue.js разработчик', 'react developer', 'react разработчик', \n",
    "    'angular developer', 'angular разработчик', 'django developer', 'django разработчик', \n",
    "    'джанго разработчик', 'flask developer', 'flask разработчик', 'ларевел разработчик', \n",
    "    'laravel developer', 'laravel разработчик', 'symfony developer', 'symfony разработчик', \n",
    "    'саймфони разработчик', 'ruby on rails developer', 'ruby разработчик', 'rails developer', \n",
    "    'ror developer', 'ruby on rails разработчик', 'рубивонрейлс разработчик', 'react.js разработчик', \n",
    "    'react.js developer', 'next.js developer', 'next.js разработчик'\n",
    "]\n",
    "\n",
    "keywords_pattern = '|'.join(keywords)"
   ]
  },
  {
   "cell_type": "code",
   "execution_count": null,
   "metadata": {},
   "outputs": [],
   "source": [
    "filtred_df = df[df['name'].str.contains(keywords_pattern, case=False)]\n",
    "filtred_df"
   ]
  },
  {
   "cell_type": "markdown",
   "metadata": {},
   "source": [
    "## Перевод деняг"
   ]
  },
  {
   "cell_type": "code",
   "execution_count": null,
   "metadata": {},
   "outputs": [],
   "source": [
    "from datetime import datetime\n",
    "\n",
    "df_currency = pd.read_csv('currency.csv', index_col='date')\n",
    "\n",
    "\n",
    "def convert_to_rur(salary, salary_currency, published_at):\n",
    "    if pd.isna(salary): \n",
    "        return None\n",
    "    if salary_currency == 'RUR':\n",
    "        return salary\n",
    "    \n",
    "    date = datetime.fromisoformat(published_at)\n",
    "    date = date.strftime(\"%Y-%m\")\n",
    "\n",
    "    rate_that_day = df_currency.loc[date]\n",
    "    \n",
    "    if salary_currency in df_currency.columns:\n",
    "        return salary * rate_that_day[salary_currency]\n",
    "\n",
    "\n",
    "def get_avg_salary(salary_from, salary_to):\n",
    "    if pd.isna(salary_from) and pd.isna(salary_to):\n",
    "        return None\n",
    "    elif pd.isna(salary_from):\n",
    "        return salary_to\n",
    "    elif pd.isna(salary_to):\n",
    "        return salary_from\n",
    "    else:\n",
    "        return (salary_from + salary_to) / 2\n",
    "    \n",
    "\n",
    "filtred_df['salary'] = filtred_df.apply(lambda row: get_avg_salary(row['salary_from'], row['salary_to']), axis=1)\n",
    "filtred_df['salary'] = filtred_df.apply(lambda row: convert_to_rur(row['salary'], row['salary_currency'], row['published_at']), axis=1)\n",
    "# csv_merged = csv_merged.dropna(subset=['salary'])\n",
    "csv_merged = filtred_df[['name', 'key_skills','salary', 'area_name', 'published_at']]\n",
    "\n",
    "csv_merged"
   ]
  },
  {
   "cell_type": "markdown",
   "metadata": {},
   "source": [
    "## Еще фильтрация"
   ]
  },
  {
   "cell_type": "code",
   "execution_count": null,
   "metadata": {},
   "outputs": [],
   "source": [
    "filtred_df = filtred_df[filtred_df['salary'] <= 1_000_000]"
   ]
  },
  {
   "cell_type": "markdown",
   "metadata": {},
   "source": [
    "# <b>Страница «Общая статистика»</b>"
   ]
  },
  {
   "cell_type": "markdown",
   "metadata": {},
   "source": [
    "## Динамика уровня зарплат по годам"
   ]
  },
  {
   "cell_type": "code",
   "execution_count": null,
   "metadata": {},
   "outputs": [],
   "source": []
  },
  {
   "cell_type": "markdown",
   "metadata": {},
   "source": [
    "## Динамика количества вакансий по годам"
   ]
  },
  {
   "cell_type": "markdown",
   "metadata": {},
   "source": [
    "## Уровень зарплат по городам"
   ]
  },
  {
   "cell_type": "markdown",
   "metadata": {},
   "source": [
    "## Доля вакансий по городам"
   ]
  },
  {
   "cell_type": "markdown",
   "metadata": {},
   "source": [
    "## ТОП-20 навыков по годам"
   ]
  },
  {
   "cell_type": "markdown",
   "metadata": {},
   "source": [
    "# <b>Страница «Востребованность»</b>"
   ]
  }
 ],
 "metadata": {
  "kernelspec": {
   "display_name": "Python 3",
   "language": "python",
   "name": "python3"
  },
  "language_info": {
   "codemirror_mode": {
    "name": "ipython",
    "version": 3
   },
   "file_extension": ".py",
   "mimetype": "text/x-python",
   "name": "python",
   "nbconvert_exporter": "python",
   "pygments_lexer": "ipython3",
   "version": "3.12.4"
  }
 },
 "nbformat": 4,
 "nbformat_minor": 2
}
